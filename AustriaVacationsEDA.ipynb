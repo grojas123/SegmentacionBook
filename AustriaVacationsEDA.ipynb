{
 "cells": [
  {
   "cell_type": "code",
   "id": "initial_id",
   "metadata": {
    "collapsed": true,
    "ExecuteTime": {
     "end_time": "2024-04-19T19:42:01.390260Z",
     "start_time": "2024-04-19T19:42:01.359588Z"
    }
   },
   "source": [
    "import pandas as pd\n",
    "vacations = pd.read_csv('csv/vacation.csv')\n",
    "vacations.head()\n"
   ],
   "outputs": [
    {
     "data": {
      "text/plain": [
       "   Gender  Age  Education                Income  Income2  \\\n",
       "0  Female   25        6.0    $30,001 to $60,000   30-60k   \n",
       "1  Female   31        8.0  $120,001 to $150,000    >120k   \n",
       "2    Male   21        3.0   $90,001 to $120,000  90-120k   \n",
       "3  Female   18        2.0    $30,001 to $60,000   30-60k   \n",
       "4    Male   61        3.0     Less than $30,000     <30k   \n",
       "\n",
       "                   Occupation State Relationship.Status  Obligation  \\\n",
       "0  Clerical or service worker   VIC              single    4.800000   \n",
       "1                professional    WA             married    3.300000   \n",
       "2                         NaN   NSW              single    3.400000   \n",
       "3                  unemployed   NSW              single    2.633333   \n",
       "4                     retired    WA             married    3.400000   \n",
       "\n",
       "  Obligation2  ...  entertainment facilities  not care about prices  \\\n",
       "0          Q4  ...                        no                     no   \n",
       "1          Q1  ...                        no                     no   \n",
       "2          Q2  ...                        no                    yes   \n",
       "3          Q1  ...                       yes                     no   \n",
       "4          Q2  ...                        no                     no   \n",
       "\n",
       "  life style of the local people intense experience of nature  \\\n",
       "0                             no                           no   \n",
       "1                            yes                           no   \n",
       "2                            yes                           no   \n",
       "3                             no                          yes   \n",
       "4                            yes                           no   \n",
       "\n",
       "  cosiness/familiar atmosphere maintain unspoilt surroundings  \\\n",
       "0                           no                             no   \n",
       "1                           no                             no   \n",
       "2                          yes                             no   \n",
       "3                           no                             no   \n",
       "4                           no                            yes   \n",
       "\n",
       "  everything organised unspoilt nature/natural landscape cultural offers  \\\n",
       "0                   no                                no              no   \n",
       "1                   no                                no              no   \n",
       "2                   no                                no             yes   \n",
       "3                   no                                no              no   \n",
       "4                   no                                no              no   \n",
       "\n",
       "  change of surroundings  \n",
       "0                     no  \n",
       "1                    yes  \n",
       "2                     no  \n",
       "3                    yes  \n",
       "4                     no  \n",
       "\n",
       "[5 rows x 32 columns]"
      ],
      "text/html": [
       "<div>\n",
       "<style scoped>\n",
       "    .dataframe tbody tr th:only-of-type {\n",
       "        vertical-align: middle;\n",
       "    }\n",
       "\n",
       "    .dataframe tbody tr th {\n",
       "        vertical-align: top;\n",
       "    }\n",
       "\n",
       "    .dataframe thead th {\n",
       "        text-align: right;\n",
       "    }\n",
       "</style>\n",
       "<table border=\"1\" class=\"dataframe\">\n",
       "  <thead>\n",
       "    <tr style=\"text-align: right;\">\n",
       "      <th></th>\n",
       "      <th>Gender</th>\n",
       "      <th>Age</th>\n",
       "      <th>Education</th>\n",
       "      <th>Income</th>\n",
       "      <th>Income2</th>\n",
       "      <th>Occupation</th>\n",
       "      <th>State</th>\n",
       "      <th>Relationship.Status</th>\n",
       "      <th>Obligation</th>\n",
       "      <th>Obligation2</th>\n",
       "      <th>...</th>\n",
       "      <th>entertainment facilities</th>\n",
       "      <th>not care about prices</th>\n",
       "      <th>life style of the local people</th>\n",
       "      <th>intense experience of nature</th>\n",
       "      <th>cosiness/familiar atmosphere</th>\n",
       "      <th>maintain unspoilt surroundings</th>\n",
       "      <th>everything organised</th>\n",
       "      <th>unspoilt nature/natural landscape</th>\n",
       "      <th>cultural offers</th>\n",
       "      <th>change of surroundings</th>\n",
       "    </tr>\n",
       "  </thead>\n",
       "  <tbody>\n",
       "    <tr>\n",
       "      <th>0</th>\n",
       "      <td>Female</td>\n",
       "      <td>25</td>\n",
       "      <td>6.0</td>\n",
       "      <td>$30,001 to $60,000</td>\n",
       "      <td>30-60k</td>\n",
       "      <td>Clerical or service worker</td>\n",
       "      <td>VIC</td>\n",
       "      <td>single</td>\n",
       "      <td>4.800000</td>\n",
       "      <td>Q4</td>\n",
       "      <td>...</td>\n",
       "      <td>no</td>\n",
       "      <td>no</td>\n",
       "      <td>no</td>\n",
       "      <td>no</td>\n",
       "      <td>no</td>\n",
       "      <td>no</td>\n",
       "      <td>no</td>\n",
       "      <td>no</td>\n",
       "      <td>no</td>\n",
       "      <td>no</td>\n",
       "    </tr>\n",
       "    <tr>\n",
       "      <th>1</th>\n",
       "      <td>Female</td>\n",
       "      <td>31</td>\n",
       "      <td>8.0</td>\n",
       "      <td>$120,001 to $150,000</td>\n",
       "      <td>&gt;120k</td>\n",
       "      <td>professional</td>\n",
       "      <td>WA</td>\n",
       "      <td>married</td>\n",
       "      <td>3.300000</td>\n",
       "      <td>Q1</td>\n",
       "      <td>...</td>\n",
       "      <td>no</td>\n",
       "      <td>no</td>\n",
       "      <td>yes</td>\n",
       "      <td>no</td>\n",
       "      <td>no</td>\n",
       "      <td>no</td>\n",
       "      <td>no</td>\n",
       "      <td>no</td>\n",
       "      <td>no</td>\n",
       "      <td>yes</td>\n",
       "    </tr>\n",
       "    <tr>\n",
       "      <th>2</th>\n",
       "      <td>Male</td>\n",
       "      <td>21</td>\n",
       "      <td>3.0</td>\n",
       "      <td>$90,001 to $120,000</td>\n",
       "      <td>90-120k</td>\n",
       "      <td>NaN</td>\n",
       "      <td>NSW</td>\n",
       "      <td>single</td>\n",
       "      <td>3.400000</td>\n",
       "      <td>Q2</td>\n",
       "      <td>...</td>\n",
       "      <td>no</td>\n",
       "      <td>yes</td>\n",
       "      <td>yes</td>\n",
       "      <td>no</td>\n",
       "      <td>yes</td>\n",
       "      <td>no</td>\n",
       "      <td>no</td>\n",
       "      <td>no</td>\n",
       "      <td>yes</td>\n",
       "      <td>no</td>\n",
       "    </tr>\n",
       "    <tr>\n",
       "      <th>3</th>\n",
       "      <td>Female</td>\n",
       "      <td>18</td>\n",
       "      <td>2.0</td>\n",
       "      <td>$30,001 to $60,000</td>\n",
       "      <td>30-60k</td>\n",
       "      <td>unemployed</td>\n",
       "      <td>NSW</td>\n",
       "      <td>single</td>\n",
       "      <td>2.633333</td>\n",
       "      <td>Q1</td>\n",
       "      <td>...</td>\n",
       "      <td>yes</td>\n",
       "      <td>no</td>\n",
       "      <td>no</td>\n",
       "      <td>yes</td>\n",
       "      <td>no</td>\n",
       "      <td>no</td>\n",
       "      <td>no</td>\n",
       "      <td>no</td>\n",
       "      <td>no</td>\n",
       "      <td>yes</td>\n",
       "    </tr>\n",
       "    <tr>\n",
       "      <th>4</th>\n",
       "      <td>Male</td>\n",
       "      <td>61</td>\n",
       "      <td>3.0</td>\n",
       "      <td>Less than $30,000</td>\n",
       "      <td>&lt;30k</td>\n",
       "      <td>retired</td>\n",
       "      <td>WA</td>\n",
       "      <td>married</td>\n",
       "      <td>3.400000</td>\n",
       "      <td>Q2</td>\n",
       "      <td>...</td>\n",
       "      <td>no</td>\n",
       "      <td>no</td>\n",
       "      <td>yes</td>\n",
       "      <td>no</td>\n",
       "      <td>no</td>\n",
       "      <td>yes</td>\n",
       "      <td>no</td>\n",
       "      <td>no</td>\n",
       "      <td>no</td>\n",
       "      <td>no</td>\n",
       "    </tr>\n",
       "  </tbody>\n",
       "</table>\n",
       "<p>5 rows × 32 columns</p>\n",
       "</div>"
      ]
     },
     "execution_count": 8,
     "metadata": {},
     "output_type": "execute_result"
    }
   ],
   "execution_count": 8
  },
  {
   "metadata": {
    "ExecuteTime": {
     "end_time": "2024-04-19T19:42:02.540708Z",
     "start_time": "2024-04-19T19:42:02.521743Z"
    }
   },
   "cell_type": "code",
   "source": "vacations.info()",
   "id": "bd2194cc3f8e7115",
   "outputs": [
    {
     "name": "stdout",
     "output_type": "stream",
     "text": [
      "<class 'pandas.core.frame.DataFrame'>\n",
      "RangeIndex: 1000 entries, 0 to 999\n",
      "Data columns (total 32 columns):\n",
      " #   Column                             Non-Null Count  Dtype  \n",
      "---  ------                             --------------  -----  \n",
      " 0   Gender                             1000 non-null   object \n",
      " 1   Age                                1000 non-null   int64  \n",
      " 2   Education                          992 non-null    float64\n",
      " 3   Income                             934 non-null    object \n",
      " 4   Income2                            934 non-null    object \n",
      " 5   Occupation                         941 non-null    object \n",
      " 6   State                              1000 non-null   object \n",
      " 7   Relationship.Status                996 non-null    object \n",
      " 8   Obligation                         1000 non-null   float64\n",
      " 9   Obligation2                        1000 non-null   object \n",
      " 10  NEP                                1000 non-null   float64\n",
      " 11  Vacation.Behaviour                 975 non-null    float64\n",
      " 12  rest and relax                     1000 non-null   object \n",
      " 13  luxury / be spoilt                 1000 non-null   object \n",
      " 14  do sports                          1000 non-null   object \n",
      " 15  excitement, a challenge            1000 non-null   object \n",
      " 16  not exceed planned budget          1000 non-null   object \n",
      " 17  realise creativity                 1000 non-null   object \n",
      " 18  fun and entertainment              1000 non-null   object \n",
      " 19  good company                       1000 non-null   object \n",
      " 20  health and beauty                  1000 non-null   object \n",
      " 21  free-and-easy-going                1000 non-null   object \n",
      " 22  entertainment facilities           1000 non-null   object \n",
      " 23  not care about prices              1000 non-null   object \n",
      " 24  life style of the local people     1000 non-null   object \n",
      " 25  intense experience of nature       1000 non-null   object \n",
      " 26  cosiness/familiar atmosphere       1000 non-null   object \n",
      " 27  maintain unspoilt surroundings     1000 non-null   object \n",
      " 28  everything organised               1000 non-null   object \n",
      " 29  unspoilt nature/natural landscape  1000 non-null   object \n",
      " 30  cultural offers                    1000 non-null   object \n",
      " 31  change of surroundings             1000 non-null   object \n",
      "dtypes: float64(4), int64(1), object(27)\n",
      "memory usage: 250.1+ KB\n"
     ]
    }
   ],
   "execution_count": 9
  },
  {
   "metadata": {
    "ExecuteTime": {
     "end_time": "2024-04-19T19:42:05.915414Z",
     "start_time": "2024-04-19T19:42:03.434037Z"
    }
   },
   "cell_type": "code",
   "source": [
    "columns=['Gender','Age','Income','Income2'] \n",
    "from ydata_profiling import ProfileReport\n",
    "df = pd.DataFrame(vacations,columns=columns)\n",
    "profile = ProfileReport(df, title=\"EDA Austria Vacations 'Gender','Age','Income','Income2'\")\n",
    "profile.to_file(\"eda_austria_vacations.html\")"
   ],
   "id": "9cb07118b2c1b9f1",
   "outputs": [
    {
     "data": {
      "text/plain": [
       "Summarize dataset:   0%|          | 0/5 [00:00<?, ?it/s]"
      ],
      "application/vnd.jupyter.widget-view+json": {
       "version_major": 2,
       "version_minor": 0,
       "model_id": "034f9a3812fb4c4d94aafa1410c61489"
      }
     },
     "metadata": {},
     "output_type": "display_data"
    },
    {
     "name": "stderr",
     "output_type": "stream",
     "text": [
      "C:\\Users\\grojas123\\miniconda3\\envs\\SegmentacionBook\\Lib\\site-packages\\seaborn\\matrix.py:260: FutureWarning: Format strings passed to MaskedConstant are ignored, but in future may error or produce different behavior\n",
      "  annotation = (\"{:\" + self.fmt + \"}\").format(val)\n",
      "C:\\Users\\grojas123\\miniconda3\\envs\\SegmentacionBook\\Lib\\site-packages\\ydata_profiling\\model\\missing.py:78: UserWarning: There was an attempt to generate the Heatmap missing values diagrams, but this failed.\n",
      "To hide this warning, disable the calculation\n",
      "(using `df.profile_report(missing_diagrams={\"Heatmap\": False}`)\n",
      "If this is problematic for your use case, please report this as an issue:\n",
      "https://github.com/ydataai/ydata-profiling/issues\n",
      "(include the error message: 'could not convert string to float: '--'')\n",
      "  warnings.warn(\n"
     ]
    },
    {
     "data": {
      "text/plain": [
       "Generate report structure:   0%|          | 0/1 [00:00<?, ?it/s]"
      ],
      "application/vnd.jupyter.widget-view+json": {
       "version_major": 2,
       "version_minor": 0,
       "model_id": "17851b9e466e4b1d85bffb7bb82cf772"
      }
     },
     "metadata": {},
     "output_type": "display_data"
    },
    {
     "data": {
      "text/plain": [
       "Render HTML:   0%|          | 0/1 [00:00<?, ?it/s]"
      ],
      "application/vnd.jupyter.widget-view+json": {
       "version_major": 2,
       "version_minor": 0,
       "model_id": "2fbca342fdb44ff3a1881fb7f1aba412"
      }
     },
     "metadata": {},
     "output_type": "display_data"
    },
    {
     "data": {
      "text/plain": [
       "Export report to file:   0%|          | 0/1 [00:00<?, ?it/s]"
      ],
      "application/vnd.jupyter.widget-view+json": {
       "version_major": 2,
       "version_minor": 0,
       "model_id": "22af4f49dc5f495891932253d1583beb"
      }
     },
     "metadata": {},
     "output_type": "display_data"
    }
   ],
   "execution_count": 10
  },
  {
   "metadata": {},
   "cell_type": "code",
   "outputs": [],
   "execution_count": null,
   "source": "",
   "id": "36d234e72b29e4fc"
  }
 ],
 "metadata": {
  "kernelspec": {
   "display_name": "Python 3",
   "language": "python",
   "name": "python3"
  },
  "language_info": {
   "codemirror_mode": {
    "name": "ipython",
    "version": 2
   },
   "file_extension": ".py",
   "mimetype": "text/x-python",
   "name": "python",
   "nbconvert_exporter": "python",
   "pygments_lexer": "ipython2",
   "version": "2.7.6"
  }
 },
 "nbformat": 4,
 "nbformat_minor": 5
}
