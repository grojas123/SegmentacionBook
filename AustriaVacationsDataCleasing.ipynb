{
 "cells": [
  {
   "cell_type": "code",
   "id": "initial_id",
   "metadata": {
    "collapsed": true,
    "ExecuteTime": {
     "end_time": "2024-04-19T19:39:51.910061Z",
     "start_time": "2024-04-19T19:39:51.887661Z"
    }
   },
   "source": [
    "import pandas as pd\n",
    "vacations = pd.read_csv('csv/vacation.csv')"
   ],
   "outputs": [],
   "execution_count": 4
  },
  {
   "metadata": {
    "ExecuteTime": {
     "end_time": "2024-04-19T19:39:52.619056Z",
     "start_time": "2024-04-19T19:39:52.613898Z"
    }
   },
   "cell_type": "code",
   "source": [
    "category_weights_income = {\n",
    "    \"Less than $30,000\": 1,\n",
    "    \"$30,001 to $60,000\": 2,\n",
    "    \"$60,001 to $90,000\": 3,\n",
    "    \"$90,001 to $120,000\": 4,\n",
    "    \"$120,001 to $150,000\": 5,\n",
    "    \"$150,001 to $180,000\": 6,\n",
    "    \"$180,001 to $210,000\": 7,\n",
    "    \"$210,001 to $240,000\": 8,\n",
    "    \"more than $240,001\": 9\n",
    "}\n",
    "category_weights_income2 = {\n",
    "    \"<30k\": 1,\n",
    "    \"30-60k\": 2,\n",
    "    \"60-90k\": 3,\n",
    "    \"90-120k\": 4,\n",
    "    \">120k\": 5\n",
    "}"
   ],
   "id": "4b727e48eddb5b9a",
   "outputs": [],
   "execution_count": 5
  },
  {
   "metadata": {
    "ExecuteTime": {
     "end_time": "2024-04-19T19:39:53.630362Z",
     "start_time": "2024-04-19T19:39:53.622081Z"
    }
   },
   "cell_type": "code",
   "source": [
    "vacations['weight_income'] = vacations['Income'].map(category_weights_income)\n",
    "vacations['weight_income2'] = vacations['Income2'].map(category_weights_income2)"
   ],
   "id": "1a9e01bfc3404033",
   "outputs": [],
   "execution_count": 6
  },
  {
   "metadata": {},
   "cell_type": "markdown",
   "source": "",
   "id": "82d40d6152e7061"
  },
  {
   "metadata": {
    "ExecuteTime": {
     "end_time": "2024-04-19T19:49:37.163252Z",
     "start_time": "2024-04-19T19:49:33.218162Z"
    }
   },
   "cell_type": "code",
   "source": [
    "from ydata_profiling import ProfileReport\n",
    "columns=['Gender','Age','Income','weight_income','Income2','weight_income2'] \n",
    "df = pd.DataFrame(vacations,columns=columns)\n",
    "profile = ProfileReport(df, title=\"EDA Austria Vacations 'Gender','Age','Income','Income2'\")\n",
    "profile.to_file(\"eda_austria_vacations_clean.html\")"
   ],
   "id": "645bb20afd466d69",
   "outputs": [
    {
     "data": {
      "text/plain": [
       "Summarize dataset:   0%|          | 0/5 [00:00<?, ?it/s]"
      ],
      "application/vnd.jupyter.widget-view+json": {
       "version_major": 2,
       "version_minor": 0,
       "model_id": "20f150e3ea394712a437b8d810e333bc"
      }
     },
     "metadata": {},
     "output_type": "display_data"
    },
    {
     "name": "stderr",
     "output_type": "stream",
     "text": [
      "C:\\Users\\grojas123\\miniconda3\\envs\\SegmentacionBook\\Lib\\site-packages\\ydata_profiling\\model\\correlations.py:66: UserWarning: There was an attempt to calculate the auto correlation, but this failed.\n",
      "To hide this warning, disable the calculation\n",
      "(using `df.profile_report(correlations={\"auto\": {\"calculate\": False}})`\n",
      "If this is problematic for your use case, please report this as an issue:\n",
      "https://github.com/ydataai/ydata-profiling/issues\n",
      "(include the error message: 'could not convert string to float: 'Female'')\n",
      "  warnings.warn(\n",
      "C:\\Users\\grojas123\\miniconda3\\envs\\SegmentacionBook\\Lib\\site-packages\\seaborn\\matrix.py:260: FutureWarning: Format strings passed to MaskedConstant are ignored, but in future may error or produce different behavior\n",
      "  annotation = (\"{:\" + self.fmt + \"}\").format(val)\n",
      "C:\\Users\\grojas123\\miniconda3\\envs\\SegmentacionBook\\Lib\\site-packages\\ydata_profiling\\model\\missing.py:78: UserWarning: There was an attempt to generate the Heatmap missing values diagrams, but this failed.\n",
      "To hide this warning, disable the calculation\n",
      "(using `df.profile_report(missing_diagrams={\"Heatmap\": False}`)\n",
      "If this is problematic for your use case, please report this as an issue:\n",
      "https://github.com/ydataai/ydata-profiling/issues\n",
      "(include the error message: 'could not convert string to float: '--'')\n",
      "  warnings.warn(\n"
     ]
    },
    {
     "data": {
      "text/plain": [
       "Generate report structure:   0%|          | 0/1 [00:00<?, ?it/s]"
      ],
      "application/vnd.jupyter.widget-view+json": {
       "version_major": 2,
       "version_minor": 0,
       "model_id": "468691309db247c3b385105b9c6dadc8"
      }
     },
     "metadata": {},
     "output_type": "display_data"
    },
    {
     "data": {
      "text/plain": [
       "Render HTML:   0%|          | 0/1 [00:00<?, ?it/s]"
      ],
      "application/vnd.jupyter.widget-view+json": {
       "version_major": 2,
       "version_minor": 0,
       "model_id": "4dd5a8622b664b9f8bf5cbfdfe016df2"
      }
     },
     "metadata": {},
     "output_type": "display_data"
    },
    {
     "data": {
      "text/plain": [
       "Export report to file:   0%|          | 0/1 [00:00<?, ?it/s]"
      ],
      "application/vnd.jupyter.widget-view+json": {
       "version_major": 2,
       "version_minor": 0,
       "model_id": "6b317677fb06421aab21bf1219f798f9"
      }
     },
     "metadata": {},
     "output_type": "display_data"
    }
   ],
   "execution_count": 11
  },
  {
   "metadata": {},
   "cell_type": "code",
   "outputs": [],
   "execution_count": null,
   "source": "",
   "id": "15df4b8cfe0129e7"
  }
 ],
 "metadata": {
  "kernelspec": {
   "display_name": "Python 3",
   "language": "python",
   "name": "python3"
  },
  "language_info": {
   "codemirror_mode": {
    "name": "ipython",
    "version": 2
   },
   "file_extension": ".py",
   "mimetype": "text/x-python",
   "name": "python",
   "nbconvert_exporter": "python",
   "pygments_lexer": "ipython2",
   "version": "2.7.6"
  }
 },
 "nbformat": 4,
 "nbformat_minor": 5
}
